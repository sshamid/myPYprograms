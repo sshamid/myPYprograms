{
 "metadata": {
  "name": "",
  "signature": "sha256:34da42f86dc693951668b482650287801b5dc187674c0499487ef9e05c821840"
 },
 "nbformat": 3,
 "nbformat_minor": 0,
 "worksheets": [
  {
   "cells": [
    {
     "cell_type": "code",
     "collapsed": false,
     "input": [
      "# insertion sort\n",
      "\n",
      "def insertion(A):\n",
      "    \"\"\"Insertion sort list\"\"\"\n",
      "    for i in range(1,len(A)):\n",
      "        insert(A, i, A[i])\n",
      "\n",
      "def insert(A, idx, value):\n",
      "    \"\"\"insert value into proper location A[:idx]\"\"\"\n",
      "\n",
      "    i = idx-1\n",
      "    while i>=0 and A[i] > value:\n",
      "        A[i+1] = A[i]\n",
      "        i = i-1\n",
      "        \n",
      "    A[i+1] = value\n"
     ],
     "language": "python",
     "metadata": {},
     "outputs": []
    },
    {
     "cell_type": "code",
     "collapsed": false,
     "input": [
      "def copymergesort(A):\n",
      "    \"\"\"Mergesort of A and return a new collection\"\"\"\n",
      "    if len(A) < 2:\n",
      "        return A\n",
      "\n",
      "    mid = len(A)/2\n",
      "    left = copymergesort(A[:mid])\n",
      "    right = copymergesort(A[mid:])\n",
      "\n",
      "    i = j = 0\n",
      "    B = []\n",
      "\n",
      "    while len(B) < len(A):\n",
      "        if j >= len(right) or (i < mid and left[i] < right[j]):\n",
      "            B.append(left[i])\n",
      "            i += 1\n",
      "        else:\n",
      "            B.append(right[j])\n",
      "            j += 1\n",
      "\n",
      "    return B\n",
      "\n",
      "import random\n",
      "\n",
      "list = [random.randint(1,90) for x in range(20)]\n",
      "\n",
      "print copymergesort(list)"
     ],
     "language": "python",
     "metadata": {},
     "outputs": [
      {
       "output_type": "stream",
       "stream": "stdout",
       "text": [
        "[3, 4, 13, 15, 18, 27, 28, 32, 32, 39, 46, 46, 60, 63, 69, 71, 73, 74, 77, 84]\n"
       ]
      }
     ],
     "prompt_number": 27
    },
    {
     "cell_type": "code",
     "collapsed": false,
     "input": [],
     "language": "python",
     "metadata": {},
     "outputs": []
    },
    {
     "cell_type": "code",
     "collapsed": false,
     "input": [
      "import copy\n",
      "def mergesort(A):\n",
      "    ''' merge sort in place'''\n",
      "    copyA = list(A)\n",
      "    mergesort_array(copyA, A, 0, len(A))\n",
      "    \n",
      "def mergesort_array(A, result, start, end):\n",
      "    if end - start < 2:\n",
      "        return\n",
      "    if end - start == 2:\n",
      "        if result[start] > result[start+1]:\n",
      "            result[start], result[start+1] = result[start+1], result[start]\n",
      "        return\n",
      "    mid = (start + end)/2\n",
      "    mergesort_array(result, A, start, mid)\n",
      "    mergesort_array(result, A, mid, end)\n",
      "    \n",
      "    i = start\n",
      "    j = mid\n",
      "    idx = start\n",
      "    \n",
      "    while idx < end:\n",
      "        if j >= end  or (i < mid and A[i] < A[j]):\n",
      "            result[idx] = A[i]\n",
      "            i += 1\n",
      "        else:\n",
      "            result[idx] = A[j]\n",
      "            j +=1\n",
      "        \n",
      "        idx += 1\n",
      "\n",
      "import random   \n",
      "listA = [random.randint(1,90) for x in range(20)]\n",
      "listB = [1,2,4,1,49]\n",
      "mergesort(listB)\n",
      "print listB"
     ],
     "language": "python",
     "metadata": {},
     "outputs": [
      {
       "output_type": "stream",
       "stream": "stdout",
       "text": [
        "[1, 1, 2, 4, 49]\n"
       ]
      }
     ],
     "prompt_number": 1
    },
    {
     "cell_type": "code",
     "collapsed": false,
     "input": [
      "listA"
     ],
     "language": "python",
     "metadata": {},
     "outputs": [
      {
       "metadata": {},
       "output_type": "pyout",
       "prompt_number": 51,
       "text": [
        "[69, 2, 20, 10, 1, 22, 69, 36, 7, 35, 62, 70, 17, 51, 47, 19, 84, 42, 81, 38]"
       ]
      }
     ],
     "prompt_number": 51
    },
    {
     "cell_type": "code",
     "collapsed": false,
     "input": [
      "import copy\n",
      "def mergeSort(A):\n",
      "    \"\"\"merge sort A in place\"\"\"\n",
      "    copyA = copy.copy(A)\n",
      "\n",
      "    mergesort_array(copyA, A, 0, len(A))\n",
      "\n",
      "\n",
      "def mergesort_array(A, result, start, end):\n",
      "    \"\"\"Mergesort array in memory with given range\"\"\"\n",
      "    if end - start < 2:\n",
      "        return\n",
      "    if end - start == 2:\n",
      "        if result[start] > result[start+1]:\n",
      "            result[start],result[start+1] = result[start+1],result[start]\n",
      "        return\n",
      "\n",
      "    mid = (end + start)/2\n",
      "    mergesort_array(result, A, start, mid)\n",
      "    mergesort_array(result, A, mid, end)\n",
      "    \n",
      "    # merge is now ready. Merge from A back into result\n",
      "    i = start\n",
      "    j = mid\n",
      "    idx = start\n",
      "    while idx < end:\n",
      "        if j >= end or (i < mid and A[i] < A[j]):\n",
      "            result[idx] = A[i]\n",
      "            i += 1\n",
      "        else:\n",
      "            result[idx] = A[j]\n",
      "            j += 1\n",
      "            \n",
      "        idx += 1\n",
      "\n",
      "import random   \n",
      "listA = [random.randint(1,90) for x in range(20)]\n",
      "listB = [1,2,4,1,49]\n",
      "mergesort(listA)\n",
      "print listA"
     ],
     "language": "python",
     "metadata": {},
     "outputs": [
      {
       "output_type": "stream",
       "stream": "stdout",
       "text": [
        "[9, 13, 16, 20, 21, 22, 38, 42, 45, 45, 63, 64, 68, 71, 72, 72, 79, 84, 87, 90]\n"
       ]
      }
     ],
     "prompt_number": 55
    },
    {
     "cell_type": "code",
     "collapsed": false,
     "input": [
      "# counting sort\n",
      "def counting_sort(array):\n",
      "    \"\"\"in-place counting sort\"\"\"\n",
      "    maxval = 0\n",
      "    for i in array:\n",
      "        if maxval < i:\n",
      "            maxval = i\n",
      "    m = maxval + 1\n",
      "    count = [0] * m               # init with zeros\n",
      "    for a in array:\n",
      "        count[a] += 1             # count occurences\n",
      "    i = 0\n",
      "    for a in range(m):            # emit\n",
      "        for c in range(count[a]): # - emit 'count[a]' copies of 'a'\n",
      "            array[i] = a\n",
      "            i += 1\n",
      "    return (array,count)\n",
      " \n",
      "print counting_sort( [7, 4, 7, 2, 1, 3, 2, 1, 4, 2, 3, 2, 1])\n"
     ],
     "language": "python",
     "metadata": {},
     "outputs": [
      {
       "output_type": "stream",
       "stream": "stdout",
       "text": [
        "([1, 1, 1, 2, 2, 2, 2, 3, 3, 4, 4, 7, 7], [0, 3, 4, 2, 2, 0, 0, 2])\n"
       ]
      }
     ],
     "prompt_number": 29
    },
    {
     "cell_type": "code",
     "collapsed": false,
     "input": [
      "# quick sort\n",
      "def quicksort(seq):\n",
      "    if len(seq) <= 1: \n",
      "        return seq\n",
      "    lo, pivot, hi = partition(seq)\n",
      "    return quicksort(lo) + [pivot] + quicksort(hi)\n",
      "\n",
      "def partition(seq):\n",
      "    pi, seq = seq[0], seq[1:]\n",
      "    lo = [x for x in seq if x <= pi]\n",
      "    hi = [x for x in seq if x > pi]\n",
      "    return lo, pi, hi\n",
      "x = range(20, -1, -1)\n",
      "print quicksort(x)"
     ],
     "language": "python",
     "metadata": {},
     "outputs": [
      {
       "output_type": "stream",
       "stream": "stdout",
       "text": [
        "[0, 1, 2, 3, 4, 5, 6, 7, 8, 9, 10, 11, 12, 13, 14, 15, 16, 17, 18, 19, 20]\n"
       ]
      }
     ],
     "prompt_number": 5
    },
    {
     "cell_type": "code",
     "collapsed": false,
     "input": [
      "# Bucket sort\n",
      "# Parameters: array to be sorted, values in [0,1]\n",
      "# Result: values sorted into increasing order\n",
      "def bucketSort(unsorted):\n",
      "    n = len(unsorted)\n",
      "    buckets = [list() for i in range(n)] # empty buckets\n",
      "\n",
      "    # place the values to be sorted in the buckets\n",
      "    for i in range(n):\n",
      "        buckets[int(n*unsorted[i])].append(unsorted[i])\n",
      "\n",
      "    # sort each bucket and concatenate to the result\n",
      "    result = []\n",
      "    for i in range(n):\n",
      "        sortedBucket = sorted(buckets[i])\n",
      "        result.extend(sortedBucket)\n",
      "\n",
      "    return result\n",
      "import random\n",
      "x = [random.random() for i in range(10)]\n",
      "print bucketSort(x)"
     ],
     "language": "python",
     "metadata": {},
     "outputs": [
      {
       "output_type": "stream",
       "stream": "stdout",
       "text": [
        "[0.08663392871645081, 0.10328183147310377, 0.1838624873995346, 0.2949066132526208, 0.5339774729279754, 0.5643673039989574, 0.6173267853931699, 0.6429100218217616, 0.6455375082144319, 0.8307704452599256]\n"
       ]
      }
     ],
     "prompt_number": 27
    },
    {
     "cell_type": "code",
     "collapsed": false,
     "input": [],
     "language": "python",
     "metadata": {},
     "outputs": []
    }
   ],
   "metadata": {}
  }
 ]
}